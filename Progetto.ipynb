{
  "cells": [
    {
      "cell_type": "markdown",
      "metadata": {
        "id": "view-in-github",
        "colab_type": "text"
      },
      "source": [
        "<a href=\"https://colab.research.google.com/github/ChiaraVanderputten/Progetto_ML/blob/main/Progetto.ipynb\" target=\"_parent\"><img src=\"https://colab.research.google.com/assets/colab-badge.svg\" alt=\"Open In Colab\"/></a>"
      ]
    },
    {
      "cell_type": "code",
      "execution_count": null,
      "metadata": {
        "id": "HMiOgKwrRN-j"
      },
      "outputs": [],
      "source": [
        "from google.colab import drive\n",
        "drive.mount('/content/drive')"
      ]
    },
    {
      "cell_type": "code",
      "execution_count": null,
      "metadata": {
        "id": "BmBXIcnTF3Ls"
      },
      "outputs": [],
      "source": [
        "%cd /content/drive/MyDrive/BiseNetv1-master\n",
        "!pip install torchvision\n",
        " \n",
        "!pip install tensorboardX\n",
        "!pip install thop\n",
        "#!python trainMPL2.py "
      ]
    },
    {
      "cell_type": "code",
      "execution_count": null,
      "metadata": {
        "id": "3WHSL-EOZcwy"
      },
      "outputs": [],
      "source": [
        "!python MPL_training_1.py"
      ]
    },
    {
      "cell_type": "code",
      "source": [
        "!python trainpseudolabels.py"
      ],
      "metadata": {
        "colab": {
          "base_uri": "https://localhost:8080/"
        },
        "id": "oDvlw1fDUo3L",
        "outputId": "6d57325c-a3d6-47d1-ecd3-690ba1a0e171"
      },
      "execution_count": null,
      "outputs": [
        {
          "output_type": "stream",
          "name": "stdout",
          "text": [
            "Upload Model...\n",
            "./checkpoints_101_sgd/model_output_best.pth\n",
            "Creating pseudo labels....\n",
            "CREO PSEUDOLABEL\n"
          ]
        }
      ]
    },
    {
      "cell_type": "code",
      "source": [
        "!python trainssl.py"
      ],
      "metadata": {
        "colab": {
          "base_uri": "https://localhost:8080/"
        },
        "id": "FaWYAx37ALAI",
        "outputId": "e0af995a-b054-45b7-9d1a-ae01b0341a3e"
      },
      "execution_count": null,
      "outputs": [
        {
          "output_type": "stream",
          "name": "stdout",
          "text": [
            "epoch 0, lr 0.025000: 100% 500/500 [17:41<00:00,  2.12s/it, loss_D=0.686743, loss_segmentation_source=1.655707, loss_target=2.486910]\n",
            "loss for train source : 2.740941\n",
            "loss for train target : 2.420221\n",
            "loss for discriminator : 0.692252\n",
            "epoch 1, lr 0.024775: 100% 500/500 [17:08<00:00,  2.06s/it, loss_D=0.654647, loss_segmentation_source=1.919313, loss_target=1.364467]\n",
            "loss for train source : 1.701100\n",
            "loss for train target : 1.439556\n",
            "loss for discriminator : 0.664995\n",
            "epoch 2, lr 0.024550: 100% 500/500 [16:41<00:00,  2.00s/it, loss_D=0.665692, loss_segmentation_source=1.397256, loss_target=0.805263]\n",
            "loss for train source : 1.436012\n",
            "loss for train target : 1.232272\n",
            "loss for discriminator : 0.641933\n",
            "start val!\n",
            "precision per pixel for test: 0.756\n",
            "mIoU for validation: 0.297\n",
            "mIoU per class: [0.9142757  0.51972529 0.77129893 0.13883905 0.         0.16025208\n",
            " 0.         0.         0.82037907 0.30306336 0.79790851 0.37350811\n",
            " 0.         0.79728103 0.05121616 0.         0.         0.\n",
            " 0.        ]\n",
            "epoch 3, lr 0.024324:  60% 300/500 [09:54<06:31,  1.96s/it, loss_D=0.603798, loss_segmentation_source=1.023046, loss_target=0.737036]"
          ]
        }
      ]
    },
    {
      "cell_type": "code",
      "execution_count": null,
      "metadata": {
        "id": "iqJUTl0WGsbC"
      },
      "outputs": [],
      "source": [
        "%cd /content/drive/MyDrive/BiseNetv1-master\n",
        "!pip install thop\n",
        "!python flopsAndParameters.py --model \"FCD\"\n",
        "#!python flopsAndParameters.py --model \"DSC\""
      ]
    }
  ],
  "metadata": {
    "accelerator": "GPU",
    "colab": {
      "collapsed_sections": [],
      "name": "Progetto.ipynb",
      "provenance": [],
      "mount_file_id": "1H7XWxTqiytk6odVY5cwlULqPVgfRE4bO",
      "authorship_tag": "ABX9TyPKRPXZ/4QcNLpdTMPWK90M",
      "include_colab_link": true
    },
    "gpuClass": "standard",
    "kernelspec": {
      "display_name": "Python 3",
      "name": "python3"
    },
    "language_info": {
      "name": "python"
    }
  },
  "nbformat": 4,
  "nbformat_minor": 0
}